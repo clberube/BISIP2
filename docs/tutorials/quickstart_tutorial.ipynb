{
 "cells": [
  {
   "cell_type": "markdown",
   "metadata": {},
   "source": [
    "# Quickstart"
   ]
  },
  {
   "cell_type": "raw",
   "metadata": {
    "raw_mimetype": "text/restructuredtext"
   },
   "source": [
    "In this first tutorial we load a data file, perform single-mode Pelton Cole-Cole inversion on it,\n",
    "visualize the fit quality and posterior distribution and save results to a csv\n",
    "file. A more in-depth look at the Pelton Cole-Cole model and its parameters is available in\n",
    "the :ref:`The Pelton Cole-Cole model` tutorial."
   ]
  },
  {
   "cell_type": "markdown",
   "metadata": {},
   "source": [
    "## Running your first inversion"
   ]
  },
  {
   "cell_type": "markdown",
   "metadata": {},
   "source": [
    "To invert a SIP data file, you would use the following approach:\n",
    "\n",
    "- Import the base `PeltonColeCole` model.\n",
    "- Pass `filepath` to instantiate the model with a specific data file.\n",
    "- Set the simulation to run for 2000 steps by passing `nsteps=2000`.\n",
    "- Set the simulation to explore the Dias model parameter space\n",
    "  with `nwalkers=32`.\n",
    "- Skip the first 9 lines in the data file with `headers=9`.\n",
    "- Fit the model to the data by calling the `fit()` method."
   ]
  },
  {
   "cell_type": "code",
   "execution_count": null,
   "metadata": {},
   "outputs": [],
   "source": [
    "import os\n",
    "\n",
    "import numpy as np\n",
    "from bisip import PeltonColeCole\n",
    "from bisip import DataFiles\n",
    "\n",
    "# This will get one of the example data files in the BISIP package\n",
    "data_files = DataFiles()\n",
    "filepath = data_files['SIP-K389172']\n",
    "\n",
    "model = PeltonColeCole(filepath=filepath,\n",
    "                       nwalkers=32,  # number of MCMC walkers\n",
    "                       nsteps=1000,  # number of MCMC steps\n",
    "                       headers=9,  # number of lines to skip in the data file\n",
    "                       )\n",
    "\n",
    "# Fit the model to this data file\n",
    "model.fit()"
   ]
  },
  {
   "cell_type": "raw",
   "metadata": {
    "raw_mimetype": "text/restructuredtext"
   },
   "source": [
    ".. note::\n",
    "    In this example we use `headers=9` to skip the header line and the 8 highest measurement frequencies. As a result\n",
    "    we keep only a single polarization mode in the lower frequency range."
   ]
  },
  {
   "cell_type": "markdown",
   "metadata": {},
   "source": [
    "## Visualizing the parameter traces"
   ]
  },
  {
   "cell_type": "markdown",
   "metadata": {},
   "source": [
    "Visual inspection of the traces of each MCMC walker is a good way to quickly assess how well the inversion went. They also define what we consider samples of the posterior distribution. The walkers are initialized at random positions in the parameter space, let's inspect the parameter traces to see if they have moved towards a unique solution to the inverse problem. Plotting the traces is one of the first things the user should do after completing the `fit()` method. Simply call the `plot_traces()` method of the `Inversion` object to visualize the parameter chains."
   ]
  },
  {
   "cell_type": "code",
   "execution_count": null,
   "metadata": {},
   "outputs": [],
   "source": [
    "# Plot the parameter traces\n",
    "fig = model.plot_traces()"
   ]
  },
  {
   "cell_type": "markdown",
   "metadata": {},
   "source": [
    "The walkers have correctly moved to similar solutions. As you can see for the first few iterations the walkers are spread out across the entire parameter space. The ensemble has then reached a stationary state after at least 50 steps. To be safe, let's discard all the values before the 100th step and use the following steps to estimate the best values for our parameters."
   ]
  },
  {
   "cell_type": "markdown",
   "metadata": {},
   "source": [
    "You can also store the chain as a numpy ndarray using the `get_chain()` method. Passing the argument `flat=True` will flatten the walkers into a single chain, whereas passing `flat=False` will preserve the `nwalkers` dimension. The `thin` argument will pick one sample every `thin` steps, this can be used to reduce autocorrelation."
   ]
  },
  {
   "cell_type": "code",
   "execution_count": null,
   "metadata": {},
   "outputs": [],
   "source": [
    "# Get chains of all walkers, discarding first 100 steps\n",
    "chain = model.get_chain(discard=100)\n",
    "print(chain.shape)  # (nsteps, nwalkers, ndim)"
   ]
  },
  {
   "cell_type": "code",
   "execution_count": null,
   "metadata": {},
   "outputs": [],
   "source": [
    "# Get chains of all walkers, discarding first 100 steps,\n",
    "# thinning by a factor of 2 and flattening the walkers\n",
    "chain = model.get_chain(discard=100, thin=2, flat=True)\n",
    "print(chain.shape)  # (nsteps*nwalkers/thin, ndim)"
   ]
  },
  {
   "cell_type": "raw",
   "metadata": {
    "raw_mimetype": "text/restructuredtext"
   },
   "source": [
    ".. note::\n",
    "    Here :code:`ndim` refers to the number of dimensions of the model (the number of parameters)."
   ]
  },
  {
   "cell_type": "markdown",
   "metadata": {},
   "source": [
    "## Plotting models over data"
   ]
  },
  {
   "cell_type": "markdown",
   "metadata": {},
   "source": [
    "Let's now plot the best model obtained with this chain using the `plot_fit()` method, which will show the real and imaginary parts of the complex resistivity as a function of measurement frequency. The plot will also display the median model as a red line and the 95% highest probability density interval as dotted lines."
   ]
  },
  {
   "cell_type": "code",
   "execution_count": null,
   "metadata": {},
   "outputs": [],
   "source": [
    "# Use the chain argument to plot the model \n",
    "# for a specific flattened chain\n",
    "fig = model.plot_fit(chain)\n",
    "\n",
    "# You can then use the `fig` matplotlib object to save the figure or make \n",
    "# adjustments according to your personal preference. For example:\n",
    "# fig.savefig('fit_figure_sample_K389172.png', dpi=144, bbox_inches='tight')"
   ]
  },
  {
   "cell_type": "markdown",
   "metadata": {},
   "source": [
    "You may also directly pass the arguments of the `get_chain()` method to most plotting functions. By default this will flatten the walkers into a single chain. For example here we use the `plot_fit_pa()` method, which will display the amplitude and phase shift as a function of measurement frequency. We also adjust the confidence interval to display the 72% HPD with the `p` argument (p for percentile). "
   ]
  },
  {
   "cell_type": "code",
   "execution_count": null,
   "metadata": {},
   "outputs": [],
   "source": [
    "# Use the discard argument to discard samples\n",
    "# note that we do not need to pass the chain argument\n",
    "fig = model.plot_fit_pa(discard=100, p=[14, 50, 86])  # 14=lower, 50=median, 86=higher"
   ]
  },
  {
   "cell_type": "markdown",
   "metadata": {},
   "source": [
    "## Printing best parameters"
   ]
  },
  {
   "cell_type": "markdown",
   "metadata": {},
   "source": [
    "Here we will use the `get_param_mean()` and `get_param_std()` utility functions to extract the mean and standard deviations of each parameter in our chain. We will also access the name of each parameter with the `param_names` property."
   ]
  },
  {
   "cell_type": "code",
   "execution_count": null,
   "metadata": {},
   "outputs": [],
   "source": [
    "values = model.get_param_mean(chain=chain)\n",
    "uncertainties = model.get_param_std(chain=chain)\n",
    "\n",
    "for n, v, u in zip(model.param_names, values, uncertainties):\n",
    "  print(f'{n}: {v:.5f} +/- {u:.5f}')"
   ]
  },
  {
   "cell_type": "markdown",
   "metadata": {},
   "source": [
    "Looks good! The relative error on the recovered parameters is quite small considering our large error bars on the data."
   ]
  },
  {
   "cell_type": "raw",
   "metadata": {
    "raw_mimetype": "text/restructuredtext"
   },
   "source": [
    ".. note::\n",
    "    It is important to note that for every inversion scheme the amplitude\n",
    "    values (and the :code:`r0` parameter) have been normalized by the maximum\n",
    "    amplitude. You may access this normalization factor with\n",
    "    :code:`model.data['norm_factor']`. Therefore the real :math:`\\rho_0` value\n",
    "    is :code:`r0 * model.data['norm_factor']`."
   ]
  },
  {
   "cell_type": "markdown",
   "metadata": {},
   "source": [
    "## Inspecting the posterior"
   ]
  },
  {
   "cell_type": "markdown",
   "metadata": {},
   "source": [
    "Let's now visualize the posterior distribution of all parameters using a\n",
    "corner plot (from the corner Python package)."
   ]
  },
  {
   "cell_type": "code",
   "execution_count": null,
   "metadata": {},
   "outputs": [],
   "source": [
    "fig = model.plot_corner(chain=chain)"
   ]
  },
  {
   "cell_type": "markdown",
   "metadata": {},
   "source": [
    "This is interesting, we note that the $\\log \\tau$ values are anticorrelated with the $m$ values. It seems like the model can obtain similar fits of the data by adjusting these parameters against each other."
   ]
  },
  {
   "cell_type": "markdown",
   "metadata": {},
   "source": [
    "## Saving results to CSV file"
   ]
  },
  {
   "cell_type": "markdown",
   "metadata": {},
   "source": [
    "Finally let's save the best parameters and some of their statistics as a csv file."
   ]
  },
  {
   "cell_type": "code",
   "execution_count": null,
   "metadata": {},
   "outputs": [],
   "source": [
    "# Get the lower, median and higher percentiles\n",
    "results = model.get_param_percentile(chain=chain, p=[2.5, 50, 97.5])\n",
    "# Join the list of parameter names into a comma separated string\n",
    "headers = ','.join(model.param_names)\n",
    "# Save to csv with numpy\n",
    "# The first row is the 2.5th percentile, 2nd the 50th (median), 3rd the 97.5th.\n",
    "# Parameter names will be listed in the csv file header."
   ]
  },
  {
   "cell_type": "code",
   "execution_count": null,
   "metadata": {},
   "outputs": [],
   "source": [
    "print(headers)"
   ]
  },
  {
   "cell_type": "code",
   "execution_count": null,
   "metadata": {},
   "outputs": [],
   "source": [
    "print(results)"
   ]
  },
  {
   "cell_type": "code",
   "execution_count": null,
   "metadata": {},
   "outputs": [],
   "source": [
    "np.savetxt('quickstart_results.csv', results, header=headers,\n",
    "           delimiter=',', comments='')"
   ]
  }
 ],
 "metadata": {
  "celltoolbar": "Raw Cell Format",
  "kernelspec": {
   "display_name": "Python 3",
   "language": "python",
   "name": "python3"
  },
  "language_info": {
   "codemirror_mode": {
    "name": "ipython",
    "version": 3
   },
   "file_extension": ".py",
   "mimetype": "text/x-python",
   "name": "python",
   "nbconvert_exporter": "python",
   "pygments_lexer": "ipython3",
   "version": "3.7.1"
  }
 },
 "nbformat": 4,
 "nbformat_minor": 2
}
