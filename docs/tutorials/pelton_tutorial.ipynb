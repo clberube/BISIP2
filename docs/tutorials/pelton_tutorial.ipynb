{
 "cells": [
  {
   "cell_type": "code",
   "execution_count": null,
   "metadata": {
    "nbsphinx": "hidden"
   },
   "outputs": [],
   "source": [
    "%config InlineBackend.figure_formats={'retina', 'pdf'}\n",
    "%config InlineBackend.figure_dpi = 72"
   ]
  },
  {
   "cell_type": "markdown",
   "metadata": {},
   "source": [
    "# The Pelton Cole-Cole model"
   ]
  },
  {
   "cell_type": "markdown",
   "metadata": {},
   "source": [
    "## Introduction"
   ]
  },
  {
   "cell_type": "raw",
   "metadata": {
    "raw_mimetype": "text/restructuredtext"
   },
   "source": [
    "`Pelton (1978) <https://agupubs.onlinelibrary.wiley.com/doi/abs/10.1029/JB077i026p04945>`_\n",
    "noted that the complex resistivity spectra of rocks :math:`\\rho^*`\n",
    "could be interpreted using Cole-Cole relaxation models:\n",
    "\n",
    ".. math::\n",
    "  \\rho^* = \\rho_0 \\left[ 1-m\\left(1-\\frac{1}{1+(i\\omega\\tau)^c} \\right) \\right],\n",
    "\n",
    "where :math:`\\omega` is the measurement angular frequency\n",
    "(:math:`\\omega=2\\pi f`) and :math:`i` is the imaginary unit.\n",
    "\n",
    "BISIP implements the generalized form of the Pelton Cole-Cole model given by\n",
    "`Chen et al., (2008) <https://doi.org/10.1190/1.2976115>`_:\n",
    "\n",
    ".. math::\n",
    "  \\rho^* = \\rho_0 \\left[ 1 - \\sum_{k=1}^{K} m_k\\left(1-\\frac{1}{1+(i\\omega\\tau_k)^{c_k}} \\right) \\right],\n",
    "\n",
    "where the subscript :math:`k` refers to one of :math:`K` superimposed Cole-Cole\n",
    "relaxation modes. Here, :math:`\\rho^*` depends on :math:`1 + 3K` parameters:\n",
    "\n",
    "  - :math:`\\rho_0 \\in [0, \\infty)`, the direct current resistivity :math:`\\rho_0 = \\rho^*(\\omega\\to 0)`.\n",
    "  - :math:`m_k \\in [0, 1]`, each mode's chargeability :math:`m=(\\rho_0 - \\rho_\\infty)/\\rho_0`.\n",
    "  - :math:`\\tau_k \\in [0, \\infty)`, each mode's relaxation time, related to\n",
    "    average polarizable particle size.\n",
    "  - :math:`c_k \\in [0, 1]`, the slope of the measured phase shift for each mode.\n",
    "  \n",
    "In this tutorial we will show that the parameter space of the generalized\n",
    "Cole-Cole model can be quite complex for some data sets."
   ]
  },
  {
   "cell_type": "markdown",
   "metadata": {},
   "source": [
    "## Defining the number of modes"
   ]
  },
  {
   "cell_type": "markdown",
   "metadata": {},
   "source": [
    "First import the required packages."
   ]
  },
  {
   "cell_type": "code",
   "execution_count": null,
   "metadata": {},
   "outputs": [],
   "source": [
    "import os\n",
    "\n",
    "import numpy as np\n",
    "import bisip\n",
    "from bisip import PeltonColeCole\n",
    "from IPython.display import display, Math\n",
    "\n",
    "np.random.seed(42)\n",
    "\n",
    "# Define this utility function to nicely print parameter values \n",
    "# for the Pelton model with LaTeX\n",
    "def print_pelton_parameters(names, values, uncertainties):\n",
    "    for n, v, u in zip(names, values, uncertainties):\n",
    "        txt = '{0}: {1:.3f} \\pm {2:.3f}'\n",
    "        n = '\\\\'+n.replace('_', '\\\\')\n",
    "        n = n.replace('\\\\r0', '\\\\rho_0')\n",
    "        n = n.replace('\\\\m', 'm_')\n",
    "        n = n.replace('\\\\c', 'c_')\n",
    "        n = n.replace('\\\\tau', '\\\\tau_')\n",
    "        txt = txt.format(n, v, u)\n",
    "        display(Math(txt))"
   ]
  },
  {
   "cell_type": "raw",
   "metadata": {
    "raw_mimetype": "text/restructuredtext"
   },
   "source": [
    "To invert a SIP data file with the Pelton model, start by instantiating a\n",
    ":class:`PeltonColeCole` object and fall the `fit()` method to estimate the parameters."
   ]
  },
  {
   "cell_type": "code",
   "execution_count": null,
   "metadata": {},
   "outputs": [],
   "source": [
    "# This will get one of the example data files in the BISIP package\n",
    "fp = f'data/SIP-K389174.dat'\n",
    "fp = os.path.join(os.path.dirname(bisip.__file__), fp)\n",
    "\n",
    "# Define MCMC parameters and ColeCole model\n",
    "nwalkers = 32\n",
    "nsteps = 1000\n",
    "model = PeltonColeCole(filepath=fp, nwalkers=nwalkers, nsteps=nsteps)\n",
    "# Fit model to data\n",
    "model.fit()"
   ]
  },
  {
   "cell_type": "markdown",
   "metadata": {},
   "source": [
    "Let's look at the fit quality first, discarding the first 500 steps. You can inspect the parameter traces to convince yourself that this is an appropriate burn-in period."
   ]
  },
  {
   "cell_type": "code",
   "execution_count": null,
   "metadata": {},
   "outputs": [],
   "source": [
    "# Plot the fit by discarding the first 500 steps\n",
    "fig = model.plot_fit(discard=500)"
   ]
  },
  {
   "cell_type": "markdown",
   "metadata": {},
   "source": [
    "Not good. clearly, our data is not well represented by the default ColeCole `n_modes=1`. In fact, we see two bumps in the imaginary part of the resistivity spectra (the first at 1 Hz and the second at > 10 kHz. Let's redefine our model with `n_modes = 2` and `nwalkers = 64`. We run the simulation with more walkers because the number of parameters to solve has increased."
   ]
  },
  {
   "cell_type": "code",
   "execution_count": null,
   "metadata": {},
   "outputs": [],
   "source": [
    "# Add the n_modes = 2 argument.\n",
    "nsteps = 1000\n",
    "n_modes = 2\n",
    "nwalkers = 64\n",
    "model = PeltonColeCole(filepath=fp, nwalkers=nwalkers, nsteps=nsteps, n_modes=n_modes)\n",
    "# Fit model to data\n",
    "model.fit()"
   ]
  },
  {
   "cell_type": "markdown",
   "metadata": {},
   "source": [
    "Let's check the traces again. We expect two values for $m$, $\\log \\tau$ and $c$ because we have two Cole-Cole modes."
   ]
  },
  {
   "cell_type": "code",
   "execution_count": null,
   "metadata": {},
   "outputs": [],
   "source": [
    "fig = model.plot_traces()"
   ]
  },
  {
   "cell_type": "markdown",
   "metadata": {},
   "source": [
    "This is quite interesting. It's not even worth yet to look at the fit quality, because the parameter traces tell us that there are at least two possible solutions to the inverse problem. This is because both Cole-Cole modes are interchangeable -- meaning that mode 1 can take on the parameters of mode 2 and vice versa. We will now see how to fix this problem by adjusting the parameter boundaries."
   ]
  },
  {
   "cell_type": "markdown",
   "metadata": {},
   "source": [
    "First we note that $\\log \\tau_1$ has two solutions: one around 0 and another around -15. The same is true for $\\log \\tau_2$. We will fix $\\log \\tau_1$ so that its values is constrained between -5 and 0, and fix the $\\log \\tau_2$ to be constrained between -10 and -15."
   ]
  },
  {
   "cell_type": "code",
   "execution_count": null,
   "metadata": {},
   "outputs": [],
   "source": [
    "# Adjust the boundaries\n",
    "model.params.update(log_tau1=[-5, 5], log_tau2=[-15, -10])\n",
    "model.p0 = None  # here we reset the randomly selected initial values"
   ]
  },
  {
   "cell_type": "raw",
   "metadata": {
    "raw_mimetype": "text/restructuredtext"
   },
   "source": [
    ".. warning::\n",
    "    It is important to reset the starting values with :code:`model.p0 = None` after changing the boundaries,\n",
    "    otherwise the chains will start in areas of 0 probability and fail to reach\n",
    "    a stationary state."
   ]
  },
  {
   "cell_type": "markdown",
   "metadata": {},
   "source": [
    "Next we fit the model using these new boundaries and visualize the traces."
   ]
  },
  {
   "cell_type": "code",
   "execution_count": null,
   "metadata": {},
   "outputs": [],
   "source": [
    "model.fit()\n",
    "fig = model.plot_traces()"
   ]
  },
  {
   "cell_type": "markdown",
   "metadata": {},
   "source": [
    "Amazing! The stricter priors have allowed all 64 walkers to find a unique solution. With these improved parameter chains the fit quality should be improved. Let's plot the fit quality while discarding the first 1000 steps."
   ]
  },
  {
   "cell_type": "code",
   "execution_count": null,
   "metadata": {},
   "outputs": [],
   "source": [
    "# Extract the chain \n",
    "chain = model.get_chain(discard=500, thin=10, flat=True)\n",
    "\n",
    "# Plot the fit by discarding the first 1000 steps\n",
    "fig = model.plot_fit(chain)"
   ]
  },
  {
   "cell_type": "markdown",
   "metadata": {},
   "source": [
    "The adjustment is satisfying, and the 95% HPD reasonable if we consider the relatively small measurement error bars. Let's inspect the mean parameters and their uncertainties."
   ]
  },
  {
   "cell_type": "code",
   "execution_count": null,
   "metadata": {},
   "outputs": [],
   "source": [
    "# Print the mean and std of the parameters after discarding burn-in samples\n",
    "values = model.get_param_mean(chain)\n",
    "uncertainties = model.get_param_std(chain)\n",
    "\n",
    "print_pelton_parameters(model.param_names, values, uncertainties)"
   ]
  },
  {
   "cell_type": "markdown",
   "metadata": {},
   "source": [
    "It looks like the parameters are very well resolved, and due to the small data error bars the uncertainties on the Pelton parameters are also very small (but you should still not neglect them). Feel free to visualize the posterior distribution of the Pelton model with the `plot_corner` method, which shows that the $m_2$ parameter has accumulated at $m_2 \\to 1$. This tells us that although the fit quality is good, the Pelton model does not explain well our data set."
   ]
  },
  {
   "cell_type": "markdown",
   "metadata": {},
   "source": [
    "## Large uncertainties"
   ]
  },
  {
   "cell_type": "markdown",
   "metadata": {},
   "source": [
    "Let's now consider a different rock sample where the measurement uncertainty is relatively lage (`K389172`), we apply the same method we did previously and put it all together in the following cell:"
   ]
  },
  {
   "cell_type": "code",
   "execution_count": null,
   "metadata": {},
   "outputs": [],
   "source": [
    "# This will get one of the example data files in the BISIP package\n",
    "fp = f'data/SIP-K389172.dat'\n",
    "fp = os.path.join(os.path.dirname(bisip.__file__), fp)\n",
    "\n",
    "# Define MCMC parameters and ColeCole model\n",
    "nwalkers = 64\n",
    "nsteps = 1000\n",
    "n_modes = 2\n",
    "model = PeltonColeCole(filepath=fp, nwalkers=nwalkers, nsteps=nsteps, n_modes=n_modes)\n",
    "\n",
    "# Adjust the boundaries\n",
    "model.params.update(log_tau1=[-5, 5], log_tau2=[-20, -10])\n",
    "model.p0 = None  # here we reset the randomly selected initial values\n",
    "\n",
    "# Fit model to data\n",
    "model.fit()\n",
    "fig = model.plot_traces()"
   ]
  },
  {
   "cell_type": "markdown",
   "metadata": {},
   "source": [
    "The inversion has reached a unique solution, but due to the large error bars on the data we can see from the traces that the parameters of mode 2 ($m_2$, $\\log \\tau_2$, $c_2$) are quite ill-defined. "
   ]
  },
  {
   "cell_type": "markdown",
   "metadata": {},
   "source": [
    "## Weak polarization"
   ]
  },
  {
   "cell_type": "markdown",
   "metadata": {},
   "source": [
    "Finally, let's consider rock sample `K389176`, where the Cole-Cole modes are not well defined in the data (i.e. where the phase shift spectrum shows a relatively flat response."
   ]
  },
  {
   "cell_type": "code",
   "execution_count": null,
   "metadata": {},
   "outputs": [],
   "source": [
    "# This will get one of the example data files in the BISIP package\n",
    "fp = f'data/SIP-K389176.dat'\n",
    "fp = os.path.join(os.path.dirname(bisip.__file__), fp)\n",
    "\n",
    "# Define MCMC parameters and ColeCole model\n",
    "nwalkers = 64\n",
    "nsteps = 1000\n",
    "n_modes = 2\n",
    "model = PeltonColeCole(filepath=fp, nwalkers=nwalkers, nsteps=nsteps, n_modes=n_modes)\n",
    "\n",
    "# Adjust the boundaries\n",
    "model.params.update(log_tau1=[-5, 5], log_tau2=[-20, -10])\n",
    "model.p0 = None  # here we reset the randomly selected initial values\n",
    "\n",
    "# Fit model to data\n",
    "model.fit()\n",
    "\n",
    "# Print the mean and std of the parameters after discarding burn-in samples\n",
    "values = model.get_param_mean(discard=500)\n",
    "uncertainties = model.get_param_std(discard=500)\n",
    "print_pelton_parameters(model.param_names, values, uncertainties)"
   ]
  },
  {
   "cell_type": "markdown",
   "metadata": {},
   "source": [
    "Inspect the traces and fit figures, you will notice that the data is well fitted by the double Pelton model. However, we note that due to the weak polarization (flat response) in the low-frequency range, the $\\log \\tau_1$ parameter is extremely ill-defined. This is because the absence of a clear polarization peak (low values of $c$) can't be explained with Cole-Cole type models, which expect a local maximum in the phase shift spectrum. This is discussed in more detail in [Bérubé et al. (2017)](https://doi.org/10.1016/j.cageo.2017.05.001)."
   ]
  },
  {
   "cell_type": "markdown",
   "metadata": {},
   "source": [
    "## Conclusions"
   ]
  },
  {
   "cell_type": "markdown",
   "metadata": {
    "raw_mimetype": "text/restructuredtext"
   },
   "source": [
    "From this experiment, we learned that the Pelton Cole-Cole model modes are interchangeable, and that to avoid this problem we must fix the $\\log \\tau_k$ parameters to take on boundaries that do not overlap. It also appears that the $m_2$ parameter is often not well resolved because it has accumulated at its upper limit. This implies that even higher values of $m_2$ may explain our data better. However, because $m$ is defined in the interval $[0, 1]$ our results suggest that the Pelton Cole-Cole model may not explain well our data set, especially its high-frequency response. Finally, we saw that data error bars have a high impact of the quality of resolved Cole-Cole parameters, and that weak polarization responses will most certaintly yield ill-defined inversion parameters."
   ]
  }
 ],
 "metadata": {
  "celltoolbar": "Raw Cell Format",
  "kernelspec": {
   "display_name": "Python 3",
   "language": "python",
   "name": "python3"
  },
  "language_info": {
   "codemirror_mode": {
    "name": "ipython",
    "version": 3
   },
   "file_extension": ".py",
   "mimetype": "text/x-python",
   "name": "python",
   "nbconvert_exporter": "python",
   "pygments_lexer": "ipython3",
   "version": "3.7.1"
  }
 },
 "nbformat": 4,
 "nbformat_minor": 2
}
