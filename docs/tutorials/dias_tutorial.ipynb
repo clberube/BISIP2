{
 "cells": [
  {
   "cell_type": "markdown",
   "metadata": {},
   "source": [
    "# The Dias (2000) model"
   ]
  },
  {
   "cell_type": "markdown",
   "metadata": {},
   "source": [
    "## Introduction"
   ]
  },
  {
   "cell_type": "markdown",
   "metadata": {},
   "source": [
    "The model proposed by [Dias (1972)](https://agupubs.onlinelibrary.wiley.com/doi/abs/10.1029/JB077i026p04945)\n",
    "describes the petrophysical properties of rocks from measurements of their\n",
    "electrical polarization in a frequency range typically from\n",
    "1 mHz to 100 kHz.\n",
    "\n",
    "We refer to [Dias (2000)](https://library.seg.org/doi/10.1190/1.1444738)\n",
    "for the implementation of the complex resistivity formula in BISIP. This model\n",
    "predicts that the complex resistivity spectra $\\rho^*$ of a\n",
    "polarizable rock sample can be described by"
   ]
  },
  {
   "cell_type": "markdown",
   "metadata": {},
   "source": [
    "\\begin{equation}\n",
    "\\rho^* = \\rho_0 \\left[ 1-m\\left(1-\\frac{1}{1+i\\omega\\tau'(1+\\frac{1}{\\mu})} \\right) \\right],\n",
    "\\end{equation}"
   ]
  },
  {
   "cell_type": "markdown",
   "metadata": {},
   "source": [
    "where $\\omega$ is the measurement angular frequencies\n",
    "($\\omega=2\\pi f$) and $i$ is the imaginary unit. Additionally,"
   ]
  },
  {
   "cell_type": "markdown",
   "metadata": {},
   "source": [
    "\\begin{equation}\n",
    "    \\mu = i\\omega\\tau + \\left(i\\omega\\tau''\\right)^{1/2}, \\\\\n",
    "    \\tau' = (\\tau/\\delta)(1 - \\delta)/(1 - m), \\\\\n",
    "    \\tau'' = \\tau^2 \\eta^2.\n",
    "\\end{equation}"
   ]
  },
  {
   "cell_type": "markdown",
   "metadata": {},
   "source": [
    "Here, $\\rho^*$ depends on 5 parameters:\n",
    "\n",
    "- $\\rho_0 \\in [0, \\infty)$, the direct current resistivity $\\rho_0 = \\rho^*(\\omega\\to 0)$.\n",
    "- $m \\in [0, 1)$, the chargeability $m=(\\rho_0 - \\rho_\\infty)/\\rho_0$.\n",
    "- $\\tau \\in [0, \\infty)$, the relaxation time, related to\n",
    "  average polarizable particle size.\n",
    "- $\\eta \\in [0, 150]$, characteristic of the\n",
    "  electrochemical environment producing polarization.\n",
    "- $\\delta \\in [0, 1)$, the pore length fraction of the electrical double\n",
    "  layer zone in the material.\n",
    "\n",
    "In this tutorial we will invert a SIP data with the Dias model to explore the\n",
    "parameter space of this semi-empirical SIP model. We will also quantify the\n",
    "relationship between the various parameters."
   ]
  },
  {
   "cell_type": "markdown",
   "metadata": {},
   "source": [
    "## Exploring the parameter space"
   ]
  },
  {
   "cell_type": "raw",
   "metadata": {},
   "source": [
    "To invert a SIP data file with the Dias model and plot the, start by instantiating a\n",
    ":class:`Dias2000` object and fall the fit() method to estimate the parameters."
   ]
  },
  {
   "cell_type": "code",
   "execution_count": 5,
   "metadata": {},
   "outputs": [
    {
     "name": "stderr",
     "output_type": "stream",
     "text": [
      "100%|██████████| 2000/2000 [00:03<00:00, 598.34it/s]\n"
     ]
    }
   ],
   "source": [
    "import os\n",
    "\n",
    "import bisip\n",
    "from bisip import Dias2000\n",
    "\n",
    "\n",
    "# This will get one of the example data files in the BISIP package\n",
    "fp = f'data/SIP-K389172.dat'\n",
    "fp = os.path.join(os.path.dirname(bisip.__file__), fp)\n",
    "\n",
    "# Define MCMC parameters and Dias model\n",
    "nwalkers = 32\n",
    "nsteps = 2000\n",
    "model = Dias2000(filepath=fp, nwalkers=nwalkers, nsteps=nsteps)\n",
    "# Fit model to data\n",
    "model.fit()"
   ]
  },
  {
   "cell_type": "code",
   "execution_count": 6,
   "metadata": {},
   "outputs": [
    {
     "ename": "SyntaxError",
     "evalue": "invalid syntax (<ipython-input-6-c0fd76be4476>, line 2)",
     "output_type": "error",
     "traceback": [
      "\u001b[0;36m  File \u001b[0;32m\"<ipython-input-6-c0fd76be4476>\"\u001b[0;36m, line \u001b[0;32m2\u001b[0m\n\u001b[0;31m    fig.savefig(./figures/dias/dias_wide_traces.png, dpi=144, bbox_inches='tight')\u001b[0m\n\u001b[0m                ^\u001b[0m\n\u001b[0;31mSyntaxError\u001b[0m\u001b[0;31m:\u001b[0m invalid syntax\n"
     ]
    }
   ],
   "source": [
    "fig = model.plot_traces()\n",
    "fig.savefig('./figures/dias/dias_wide_traces.png', dpi=144, bbox_inches='tight')"
   ]
  },
  {
   "cell_type": "code",
   "execution_count": null,
   "metadata": {},
   "outputs": [],
   "source": []
  }
 ],
 "metadata": {
  "kernelspec": {
   "display_name": "Python 3",
   "language": "python",
   "name": "python3"
  },
  "language_info": {
   "codemirror_mode": {
    "name": "ipython",
    "version": 3
   },
   "file_extension": ".py",
   "mimetype": "text/x-python",
   "name": "python",
   "nbconvert_exporter": "python",
   "pygments_lexer": "ipython3",
   "version": "3.7.1"
  }
 },
 "nbformat": 4,
 "nbformat_minor": 2
}
