{
 "cells": [
  {
   "cell_type": "raw",
   "metadata": {},
   "source": [
    "The Dias (2000) model\n",
    "=====================\n",
    "\n",
    "Introduction\n",
    "------------\n",
    "The model proposed by `Dias (1972) <https://agupubs.onlinelibrary.wiley.com/doi/abs/10.1029/JB077i026p04945>`_\n",
    "describes the petrophysical properties of rocks from measurements of their\n",
    "electrical polarization in a frequency range typically from\n",
    "1 mHz to 100 kHz.\n",
    "\n",
    "We refer to `Dias (2000) <https://library.seg.org/doi/10.1190/1.1444738>`_\n",
    "for the implementation of the complex resistivity formula in BISIP. This model\n",
    "predicts that the complex resistivity spectra :math:`\\boldsymbol{\\rho^*}` of a\n",
    "polarizable rock sample can be described by"
   ]
  },
  {
   "cell_type": "markdown",
   "metadata": {},
   "source": [
    "\\begin{equation}\n",
    "\\rho^* = \\rho_0 \\left[ 1-m\\left(1-\\frac{1}{1+i\\omega\\tau'(1+\\frac{1}{\\mu})} \\right) \\right],\n",
    "\\end{equation}"
   ]
  },
  {
   "cell_type": "code",
   "execution_count": null,
   "metadata": {},
   "outputs": [],
   "source": []
  }
 ],
 "metadata": {
  "kernelspec": {
   "display_name": "Python 3",
   "language": "python",
   "name": "python3"
  },
  "language_info": {
   "codemirror_mode": {
    "name": "ipython",
    "version": 3
   },
   "file_extension": ".py",
   "mimetype": "text/x-python",
   "name": "python",
   "nbconvert_exporter": "python",
   "pygments_lexer": "ipython3",
   "version": "3.7.1"
  }
 },
 "nbformat": 4,
 "nbformat_minor": 2
}
